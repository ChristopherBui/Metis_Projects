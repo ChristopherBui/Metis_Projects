{
 "cells": [
  {
   "cell_type": "code",
   "execution_count": 72,
   "metadata": {
    "collapsed": true
   },
   "outputs": [],
   "source": [
    "import itertools\n",
    "import random\n",
    "import json\n",
    "import pprint\n",
    "import pickle\n",
    "import numpy as np\n",
    "import pandas as pd\n",
    "\n",
    "import nltk\n",
    "from nltk.corpus import stopwords\n",
    "from nltk.tokenize import word_tokenize\n",
    "\n",
    "from sklearn.feature_extraction.text import TfidfVectorizer\n",
    "from sklearn.metrics.pairwise import cosine_similarity\n",
    "#nltk.download('punkt')"
   ]
  },
  {
   "cell_type": "code",
   "execution_count": 81,
   "metadata": {
    "collapsed": true
   },
   "outputs": [],
   "source": [
    "with open('/Users/christopher/Desktop/projects/Metis_Projects/Project_4/data/train-v2.0.json') as f:\n",
    "    data = json.load(f)"
   ]
  },
  {
   "cell_type": "code",
   "execution_count": 82,
   "metadata": {
    "collapsed": true
   },
   "outputs": [],
   "source": [
    "# dictionary of wiki pages and their respective content presented as one long string\n",
    "page = {}\n",
    "\n",
    "# dictionary of questions pertaining to specific wiki page\n",
    "qa = {}"
   ]
  },
  {
   "cell_type": "code",
   "execution_count": 83,
   "metadata": {
    "collapsed": true
   },
   "outputs": [],
   "source": [
    "def extract_content(data):\n",
    "    for i in range(len(data[\"data\"])):\n",
    "        page[str(i)] = dict([(\"title\", None), (\"content\", [])])\n",
    "        qa[str(i)] = dict([(\"questions\", []), (\"answers\",[])])\n",
    "\n",
    "\n",
    "    for i in range(len(data[\"data\"])):\n",
    "        page[str(i)][\"title\"] = data[\"data\"][i][\"title\"]\n",
    "        for j in data[\"data\"][i][\"paragraphs\"]:\n",
    "            page[str(i)][\"content\"].append(j[\"context\"])\n",
    "            for k in range(len(j[\"qas\"])):\n",
    "                qa[str(i)][\"questions\"].append(j[\"qas\"][k][\"question\"])\n",
    "        page[str(i)][\"content\"] = ' '.join(page[str(i)][\"content\"])\n",
    "                                           \n",
    "                                           \n",
    "# save content & questions\n",
    "    json.dump(page, open('wiki_pages.json','w'))\n",
    "    json.dump(qa, open('wiki_questions.json','w'))"
   ]
  },
  {
   "cell_type": "code",
   "execution_count": 84,
   "metadata": {
    "collapsed": true
   },
   "outputs": [],
   "source": [
    "extract_content(data)"
   ]
  },
  {
   "cell_type": "code",
   "execution_count": 85,
   "metadata": {
    "collapsed": true
   },
   "outputs": [],
   "source": [
    "# create corpus of all wiki pages content\n",
    "corpus_titles = []\n",
    "corpus = []\n",
    "for i in range(len(page)):\n",
    "    corpus_titles.append(page[str(i)][\"title\"])\n",
    "    corpus.append(page[str(i)][\"content\"])"
   ]
  },
  {
   "cell_type": "code",
   "execution_count": 86,
   "metadata": {},
   "outputs": [
    {
     "name": "stdout",
     "output_type": "stream",
     "text": [
      "number of docs: 442 \n",
      " corpus_length:  442 \n",
      " corpus_title_length: 442\n"
     ]
    }
   ],
   "source": [
    "# sanity check\n",
    "number_of_docs = len(page)\n",
    "corpus_length = len(corpus)\n",
    "corpus_titles_length = len(corpus_titles)\n",
    "print('number of docs:', number_of_docs, '\\n', 'corpus_length: ', corpus_length, '\\n', 'corpus_title_length:', corpus_titles_length)"
   ]
  },
  {
   "cell_type": "code",
   "execution_count": 87,
   "metadata": {},
   "outputs": [],
   "source": [
    "def best_wiki(own_question=False):\n",
    "    \n",
    "    X_corpus = corpus\n",
    "    X_corpus_titles = corpus_titles\n",
    "    print(len(X_corpus_titles), len(X_corpus))\n",
    "    \n",
    "# choose a question & add it to the corpus\n",
    "    if own_question==True:\n",
    "        own_question = input('Ask a quesiton: ')\n",
    "        X_corpus.append(own_question)\n",
    "        X_corpus_titles.append('placeholder')\n",
    "    \n",
    "    else:\n",
    "        wiki_num = random.randint(0,len(qa))\n",
    "        chosen_q = random.choice(qa[str(wiki_num)][\"questions\"])\n",
    "        X_corpus.append(chosen_q)\n",
    "        #X_corpus_titles.append('placeholder')\n",
    "        \n",
    "        print(chosen_q)\n",
    "    \n",
    "    tfidf = TfidfVectorizer(strip_accents='ascii', stop_words='english')\n",
    "    X_tfidf = tfidf.fit_transform(X_corpus).toarray()\n",
    "    \n",
    "    # convert array of documents & tfidf values to dataframe\n",
    "    df = pd.DataFrame(X_tfidf, columns=tfidf.get_feature_names())\n",
    "    \n",
    "    # compute cosine similarity\n",
    "    cs_array = cosine_similarity(df)\n",
    "    \n",
    "    # find which wiki page corresponds highest to question asked\n",
    "    best_wiki = X_corpus_titles[np.argmax(cs_array[-1][cs_array[-1]!=1])]\n",
    "    \n",
    "    \n",
    "    \n",
    "    print(best_wiki)\n",
    "    \n",
    "    return best_wiki\n",
    "    "
   ]
  },
  {
   "cell_type": "code",
   "execution_count": 88,
   "metadata": {},
   "outputs": [
    {
     "name": "stdout",
     "output_type": "stream",
     "text": [
      "442 442\n",
      "What caused sea levelsw to rise 115 meters?\n"
     ]
    },
    {
     "name": "stderr",
     "output_type": "stream",
     "text": [
      "/anaconda/lib/python3.6/site-packages/sklearn/feature_extraction/text.py:1059: FutureWarning: Conversion of the second argument of issubdtype from `float` to `np.floating` is deprecated. In future, it will be treated as `np.float64 == np.dtype(float).type`.\n",
      "  if hasattr(X, 'dtype') and np.issubdtype(X.dtype, np.float):\n"
     ]
    },
    {
     "ename": "IndexError",
     "evalue": "list index out of range",
     "output_type": "error",
     "traceback": [
      "\u001b[0;31m---------------------------------------------------------------------------\u001b[0m",
      "\u001b[0;31mIndexError\u001b[0m                                Traceback (most recent call last)",
      "\u001b[0;32m<ipython-input-88-5b5e8d89d722>\u001b[0m in \u001b[0;36m<module>\u001b[0;34m()\u001b[0m\n\u001b[0;32m----> 1\u001b[0;31m \u001b[0mbest_wiki\u001b[0m\u001b[0;34m(\u001b[0m\u001b[0;34m)\u001b[0m\u001b[0;34m\u001b[0m\u001b[0m\n\u001b[0m",
      "\u001b[0;32m<ipython-input-87-63d43069f8de>\u001b[0m in \u001b[0;36mbest_wiki\u001b[0;34m(own_question)\u001b[0m\n\u001b[1;32m     29\u001b[0m \u001b[0;34m\u001b[0m\u001b[0m\n\u001b[1;32m     30\u001b[0m     \u001b[0;31m# find which wiki page corresponds highest to question asked\u001b[0m\u001b[0;34m\u001b[0m\u001b[0;34m\u001b[0m\u001b[0m\n\u001b[0;32m---> 31\u001b[0;31m     \u001b[0mbest_wiki\u001b[0m \u001b[0;34m=\u001b[0m \u001b[0mX_corpus_titles\u001b[0m\u001b[0;34m[\u001b[0m\u001b[0mnp\u001b[0m\u001b[0;34m.\u001b[0m\u001b[0margmax\u001b[0m\u001b[0;34m(\u001b[0m\u001b[0mcs_array\u001b[0m\u001b[0;34m[\u001b[0m\u001b[0;34m-\u001b[0m\u001b[0;36m1\u001b[0m\u001b[0;34m]\u001b[0m\u001b[0;34m[\u001b[0m\u001b[0mcs_array\u001b[0m\u001b[0;34m[\u001b[0m\u001b[0;34m-\u001b[0m\u001b[0;36m1\u001b[0m\u001b[0;34m]\u001b[0m\u001b[0;34m!=\u001b[0m\u001b[0;36m1\u001b[0m\u001b[0;34m]\u001b[0m\u001b[0;34m)\u001b[0m\u001b[0;34m]\u001b[0m\u001b[0;34m\u001b[0m\u001b[0m\n\u001b[0m\u001b[1;32m     32\u001b[0m \u001b[0;34m\u001b[0m\u001b[0m\n\u001b[1;32m     33\u001b[0m \u001b[0;34m\u001b[0m\u001b[0m\n",
      "\u001b[0;31mIndexError\u001b[0m: list index out of range"
     ]
    }
   ],
   "source": [
    "best_wiki()"
   ]
  },
  {
   "cell_type": "code",
   "execution_count": 33,
   "metadata": {},
   "outputs": [
    {
     "name": "stdout",
     "output_type": "stream",
     "text": [
      "442 442\n",
      "Ask a quesiton: when was kanye born?\n"
     ]
    },
    {
     "name": "stderr",
     "output_type": "stream",
     "text": [
      "/anaconda/lib/python3.6/site-packages/sklearn/feature_extraction/text.py:1059: FutureWarning: Conversion of the second argument of issubdtype from `float` to `np.floating` is deprecated. In future, it will be treated as `np.float64 == np.dtype(float).type`.\n",
      "  if hasattr(X, 'dtype') and np.issubdtype(X.dtype, np.float):\n"
     ]
    },
    {
     "name": "stdout",
     "output_type": "stream",
     "text": [
      "Kanye_West\n"
     ]
    },
    {
     "data": {
      "text/plain": [
       "'Kanye_West'"
      ]
     },
     "execution_count": 33,
     "metadata": {},
     "output_type": "execute_result"
    }
   ],
   "source": [
    "best_wiki(own_question=True)"
   ]
  },
  {
   "cell_type": "code",
   "execution_count": null,
   "metadata": {
    "collapsed": true
   },
   "outputs": [],
   "source": []
  }
 ],
 "metadata": {
  "kernelspec": {
   "display_name": "Python 3",
   "language": "python",
   "name": "python3"
  },
  "language_info": {
   "codemirror_mode": {
    "name": "ipython",
    "version": 3
   },
   "file_extension": ".py",
   "mimetype": "text/x-python",
   "name": "python",
   "nbconvert_exporter": "python",
   "pygments_lexer": "ipython3",
   "version": "3.6.1"
  }
 },
 "nbformat": 4,
 "nbformat_minor": 2
}
