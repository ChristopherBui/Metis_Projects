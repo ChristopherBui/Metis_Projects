{
 "cells": [
  {
   "cell_type": "code",
   "execution_count": 94,
   "metadata": {
    "collapsed": true
   },
   "outputs": [],
   "source": [
    "import pandas as pd\n",
    "import numpy as np\n",
    "import matplotlib.pyplot as plt\n",
    "from sklearn.model_selection import train_test_split, cross_val_score\n",
    "from sklearn import svm\n",
    "from sklearn.tree import DecisionTreeClassifier\n",
    "from sklearn.ensemble import RandomForestClassifier, GradientBoostingClassifier\n",
    "\n",
    "from sklearn.metrics import roc_curve, auc, confusion_matrix, classification_report, precision_score, recall_score\n",
    "import pylab\n",
    "import pprint"
   ]
  },
  {
   "cell_type": "code",
   "execution_count": 6,
   "metadata": {
    "collapsed": true
   },
   "outputs": [],
   "source": [
    "df = pd.DataFrame.from_csv('credit_dollars.csv')"
   ]
  },
  {
   "cell_type": "code",
   "execution_count": 8,
   "metadata": {},
   "outputs": [
    {
     "data": {
      "text/html": [
       "<div>\n",
       "<style>\n",
       "    .dataframe thead tr:only-child th {\n",
       "        text-align: right;\n",
       "    }\n",
       "\n",
       "    .dataframe thead th {\n",
       "        text-align: left;\n",
       "    }\n",
       "\n",
       "    .dataframe tbody tr th {\n",
       "        vertical-align: top;\n",
       "    }\n",
       "</style>\n",
       "<table border=\"1\" class=\"dataframe\">\n",
       "  <thead>\n",
       "    <tr style=\"text-align: right;\">\n",
       "      <th></th>\n",
       "      <th>credit</th>\n",
       "      <th>gender</th>\n",
       "      <th>education</th>\n",
       "      <th>martial_status</th>\n",
       "      <th>age</th>\n",
       "      <th>pay_status_sep</th>\n",
       "      <th>pay_status_aug</th>\n",
       "      <th>pay_status_jul</th>\n",
       "      <th>pay_status_jun</th>\n",
       "      <th>pay_status_may</th>\n",
       "      <th>...</th>\n",
       "      <th>bill_june</th>\n",
       "      <th>bill_may</th>\n",
       "      <th>bill_apr</th>\n",
       "      <th>paid_sep</th>\n",
       "      <th>paid_aug</th>\n",
       "      <th>paid_jul</th>\n",
       "      <th>paid_jun</th>\n",
       "      <th>paid_may</th>\n",
       "      <th>paid_apr</th>\n",
       "      <th>Y</th>\n",
       "    </tr>\n",
       "  </thead>\n",
       "  <tbody>\n",
       "    <tr>\n",
       "      <th>1</th>\n",
       "      <td>627</td>\n",
       "      <td>2</td>\n",
       "      <td>2</td>\n",
       "      <td>1</td>\n",
       "      <td>24</td>\n",
       "      <td>2</td>\n",
       "      <td>2</td>\n",
       "      <td>-1</td>\n",
       "      <td>-1</td>\n",
       "      <td>-2</td>\n",
       "      <td>...</td>\n",
       "      <td>0</td>\n",
       "      <td>0</td>\n",
       "      <td>0</td>\n",
       "      <td>0</td>\n",
       "      <td>21</td>\n",
       "      <td>0</td>\n",
       "      <td>0</td>\n",
       "      <td>0</td>\n",
       "      <td>0</td>\n",
       "      <td>1</td>\n",
       "    </tr>\n",
       "    <tr>\n",
       "      <th>2</th>\n",
       "      <td>3767</td>\n",
       "      <td>2</td>\n",
       "      <td>2</td>\n",
       "      <td>2</td>\n",
       "      <td>26</td>\n",
       "      <td>-1</td>\n",
       "      <td>2</td>\n",
       "      <td>0</td>\n",
       "      <td>0</td>\n",
       "      <td>0</td>\n",
       "      <td>...</td>\n",
       "      <td>102</td>\n",
       "      <td>108</td>\n",
       "      <td>102</td>\n",
       "      <td>0</td>\n",
       "      <td>31</td>\n",
       "      <td>31</td>\n",
       "      <td>31</td>\n",
       "      <td>0</td>\n",
       "      <td>62</td>\n",
       "      <td>1</td>\n",
       "    </tr>\n",
       "    <tr>\n",
       "      <th>3</th>\n",
       "      <td>2825</td>\n",
       "      <td>2</td>\n",
       "      <td>2</td>\n",
       "      <td>2</td>\n",
       "      <td>34</td>\n",
       "      <td>0</td>\n",
       "      <td>0</td>\n",
       "      <td>0</td>\n",
       "      <td>0</td>\n",
       "      <td>0</td>\n",
       "      <td>...</td>\n",
       "      <td>449</td>\n",
       "      <td>469</td>\n",
       "      <td>488</td>\n",
       "      <td>47</td>\n",
       "      <td>47</td>\n",
       "      <td>31</td>\n",
       "      <td>31</td>\n",
       "      <td>31</td>\n",
       "      <td>156</td>\n",
       "      <td>0</td>\n",
       "    </tr>\n",
       "    <tr>\n",
       "      <th>4</th>\n",
       "      <td>1569</td>\n",
       "      <td>2</td>\n",
       "      <td>2</td>\n",
       "      <td>1</td>\n",
       "      <td>37</td>\n",
       "      <td>0</td>\n",
       "      <td>0</td>\n",
       "      <td>0</td>\n",
       "      <td>0</td>\n",
       "      <td>0</td>\n",
       "      <td>...</td>\n",
       "      <td>888</td>\n",
       "      <td>909</td>\n",
       "      <td>927</td>\n",
       "      <td>62</td>\n",
       "      <td>63</td>\n",
       "      <td>37</td>\n",
       "      <td>34</td>\n",
       "      <td>33</td>\n",
       "      <td>31</td>\n",
       "      <td>0</td>\n",
       "    </tr>\n",
       "    <tr>\n",
       "      <th>5</th>\n",
       "      <td>1569</td>\n",
       "      <td>1</td>\n",
       "      <td>2</td>\n",
       "      <td>1</td>\n",
       "      <td>57</td>\n",
       "      <td>-1</td>\n",
       "      <td>0</td>\n",
       "      <td>-1</td>\n",
       "      <td>0</td>\n",
       "      <td>0</td>\n",
       "      <td>...</td>\n",
       "      <td>657</td>\n",
       "      <td>601</td>\n",
       "      <td>600</td>\n",
       "      <td>62</td>\n",
       "      <td>1151</td>\n",
       "      <td>313</td>\n",
       "      <td>282</td>\n",
       "      <td>21</td>\n",
       "      <td>21</td>\n",
       "      <td>0</td>\n",
       "    </tr>\n",
       "  </tbody>\n",
       "</table>\n",
       "<p>5 rows × 24 columns</p>\n",
       "</div>"
      ],
      "text/plain": [
       "   credit  gender  education  martial_status  age  pay_status_sep  \\\n",
       "1     627       2          2               1   24               2   \n",
       "2    3767       2          2               2   26              -1   \n",
       "3    2825       2          2               2   34               0   \n",
       "4    1569       2          2               1   37               0   \n",
       "5    1569       1          2               1   57              -1   \n",
       "\n",
       "   pay_status_aug  pay_status_jul  pay_status_jun  pay_status_may ...  \\\n",
       "1               2              -1              -1              -2 ...   \n",
       "2               2               0               0               0 ...   \n",
       "3               0               0               0               0 ...   \n",
       "4               0               0               0               0 ...   \n",
       "5               0              -1               0               0 ...   \n",
       "\n",
       "   bill_june  bill_may  bill_apr  paid_sep  paid_aug  paid_jul  paid_jun  \\\n",
       "1          0         0         0         0        21         0         0   \n",
       "2        102       108       102         0        31        31        31   \n",
       "3        449       469       488        47        47        31        31   \n",
       "4        888       909       927        62        63        37        34   \n",
       "5        657       601       600        62      1151       313       282   \n",
       "\n",
       "   paid_may  paid_apr  Y  \n",
       "1         0         0  1  \n",
       "2         0        62  1  \n",
       "3        31       156  0  \n",
       "4        33        31  0  \n",
       "5        21        21  0  \n",
       "\n",
       "[5 rows x 24 columns]"
      ]
     },
     "execution_count": 8,
     "metadata": {},
     "output_type": "execute_result"
    }
   ],
   "source": [
    "df.head()"
   ]
  },
  {
   "cell_type": "code",
   "execution_count": 189,
   "metadata": {},
   "outputs": [
    {
     "data": {
      "text/plain": [
       "Index(['credit', 'gender', 'education', 'martial_status', 'age',\n",
       "       'pay_status_sep', 'pay_status_aug', 'pay_status_jul', 'pay_status_jun',\n",
       "       'pay_status_may', 'pay_status_apr', 'bill_sep', 'bill_aug', 'bill_jul',\n",
       "       'bill_june', 'bill_may', 'bill_apr', 'paid_sep', 'paid_aug', 'paid_jul',\n",
       "       'paid_jun', 'paid_may', 'paid_apr', 'Y'],\n",
       "      dtype='object')"
      ]
     },
     "execution_count": 189,
     "metadata": {},
     "output_type": "execute_result"
    }
   ],
   "source": [
    "df.columns"
   ]
  },
  {
   "cell_type": "code",
   "execution_count": 176,
   "metadata": {
    "collapsed": true
   },
   "outputs": [],
   "source": [
    "X = df.iloc[:,0:-1]\n",
    "y = df.iloc[:,-1]"
   ]
  },
  {
   "cell_type": "code",
   "execution_count": 235,
   "metadata": {},
   "outputs": [
    {
     "data": {
      "text/plain": [
       "'bill_sep'"
      ]
     },
     "execution_count": 235,
     "metadata": {},
     "output_type": "execute_result"
    }
   ],
   "source": [
    "df.columns[11]"
   ]
  },
  {
   "cell_type": "code",
   "execution_count": 15,
   "metadata": {
    "collapsed": true
   },
   "outputs": [],
   "source": [
    "pay_col = df.columns[5:11]"
   ]
  },
  {
   "cell_type": "code",
   "execution_count": 21,
   "metadata": {},
   "outputs": [
    {
     "data": {
      "text/plain": [
       "6"
      ]
     },
     "execution_count": 21,
     "metadata": {},
     "output_type": "execute_result"
    }
   ],
   "source": [
    "len(pay_col)"
   ]
  },
  {
   "cell_type": "code",
   "execution_count": 239,
   "metadata": {},
   "outputs": [
    {
     "data": {
      "text/html": [
       "<div>\n",
       "<style>\n",
       "    .dataframe thead tr:only-child th {\n",
       "        text-align: right;\n",
       "    }\n",
       "\n",
       "    .dataframe thead th {\n",
       "        text-align: left;\n",
       "    }\n",
       "\n",
       "    .dataframe tbody tr th {\n",
       "        vertical-align: top;\n",
       "    }\n",
       "</style>\n",
       "<table border=\"1\" class=\"dataframe\">\n",
       "  <thead>\n",
       "    <tr style=\"text-align: right;\">\n",
       "      <th></th>\n",
       "      <th>bill_sep</th>\n",
       "      <th>bill_aug</th>\n",
       "      <th>bill_jul</th>\n",
       "      <th>bill_june</th>\n",
       "      <th>bill_may</th>\n",
       "      <th>bill_apr</th>\n",
       "    </tr>\n",
       "  </thead>\n",
       "  <tbody>\n",
       "    <tr>\n",
       "      <th>count</th>\n",
       "      <td>30000.000000</td>\n",
       "      <td>30000.000000</td>\n",
       "      <td>30000.000000</td>\n",
       "      <td>30000.000000</td>\n",
       "      <td>30000.000000</td>\n",
       "      <td>30000.00000</td>\n",
       "    </tr>\n",
       "    <tr>\n",
       "      <th>mean</th>\n",
       "      <td>1607.821567</td>\n",
       "      <td>1543.649333</td>\n",
       "      <td>1475.652500</td>\n",
       "      <td>1357.909167</td>\n",
       "      <td>1265.244433</td>\n",
       "      <td>1220.05100</td>\n",
       "    </tr>\n",
       "    <tr>\n",
       "      <th>std</th>\n",
       "      <td>2311.920342</td>\n",
       "      <td>2234.610658</td>\n",
       "      <td>2177.327461</td>\n",
       "      <td>2019.818737</td>\n",
       "      <td>1908.803657</td>\n",
       "      <td>1869.77099</td>\n",
       "    </tr>\n",
       "    <tr>\n",
       "      <th>min</th>\n",
       "      <td>-5198.000000</td>\n",
       "      <td>-2190.000000</td>\n",
       "      <td>-4937.000000</td>\n",
       "      <td>-5337.000000</td>\n",
       "      <td>-2553.000000</td>\n",
       "      <td>-10662.00000</td>\n",
       "    </tr>\n",
       "    <tr>\n",
       "      <th>25%</th>\n",
       "      <td>111.000000</td>\n",
       "      <td>93.000000</td>\n",
       "      <td>83.000000</td>\n",
       "      <td>73.000000</td>\n",
       "      <td>55.000000</td>\n",
       "      <td>39.00000</td>\n",
       "    </tr>\n",
       "    <tr>\n",
       "      <th>50%</th>\n",
       "      <td>702.000000</td>\n",
       "      <td>665.000000</td>\n",
       "      <td>630.000000</td>\n",
       "      <td>598.000000</td>\n",
       "      <td>568.000000</td>\n",
       "      <td>535.50000</td>\n",
       "    </tr>\n",
       "    <tr>\n",
       "      <th>75%</th>\n",
       "      <td>2106.000000</td>\n",
       "      <td>2009.000000</td>\n",
       "      <td>1888.250000</td>\n",
       "      <td>1711.000000</td>\n",
       "      <td>1575.250000</td>\n",
       "      <td>1544.00000</td>\n",
       "    </tr>\n",
       "    <tr>\n",
       "      <th>max</th>\n",
       "      <td>30282.000000</td>\n",
       "      <td>30892.000000</td>\n",
       "      <td>52247.000000</td>\n",
       "      <td>27993.000000</td>\n",
       "      <td>29110.000000</td>\n",
       "      <td>30193.00000</td>\n",
       "    </tr>\n",
       "  </tbody>\n",
       "</table>\n",
       "</div>"
      ],
      "text/plain": [
       "           bill_sep      bill_aug      bill_jul     bill_june      bill_may  \\\n",
       "count  30000.000000  30000.000000  30000.000000  30000.000000  30000.000000   \n",
       "mean    1607.821567   1543.649333   1475.652500   1357.909167   1265.244433   \n",
       "std     2311.920342   2234.610658   2177.327461   2019.818737   1908.803657   \n",
       "min    -5198.000000  -2190.000000  -4937.000000  -5337.000000  -2553.000000   \n",
       "25%      111.000000     93.000000     83.000000     73.000000     55.000000   \n",
       "50%      702.000000    665.000000    630.000000    598.000000    568.000000   \n",
       "75%     2106.000000   2009.000000   1888.250000   1711.000000   1575.250000   \n",
       "max    30282.000000  30892.000000  52247.000000  27993.000000  29110.000000   \n",
       "\n",
       "          bill_apr  \n",
       "count  30000.00000  \n",
       "mean    1220.05100  \n",
       "std     1869.77099  \n",
       "min   -10662.00000  \n",
       "25%       39.00000  \n",
       "50%      535.50000  \n",
       "75%     1544.00000  \n",
       "max    30193.00000  "
      ]
     },
     "execution_count": 239,
     "metadata": {},
     "output_type": "execute_result"
    }
   ],
   "source": [
    "df.iloc[:,11:17].describe()"
   ]
  },
  {
   "cell_type": "code",
   "execution_count": 1,
   "metadata": {
    "collapsed": true
   },
   "outputs": [],
   "source": [
    "# Let's plot how many counts of each type of payment status for each month to get a sense of what proportion of people are paying their bills on time"
   ]
  },
  {
   "cell_type": "code",
   "execution_count": 60,
   "metadata": {},
   "outputs": [
    {
     "data": {
      "text/plain": [
       "<matplotlib.text.Text at 0x11938f748>"
      ]
     },
     "execution_count": 60,
     "metadata": {},
     "output_type": "execute_result"
    }
   ],
   "source": [
    "fig, ax = plt.subplots(2,3)\n",
    "fig.set_size_inches(15,5)\n",
    "fig.suptitle('Payment Status April - September 2005')"
   ]
  },
  {
   "cell_type": "code",
   "execution_count": 61,
   "metadata": {
    "collapsed": true
   },
   "outputs": [],
   "source": [
    "for i in range(6):\n",
    "    x,y = int(i/3), i%3\n",
    "    \n",
    "    ax[x,y].bar(df[pay_col[i]].value_counts().index, df[pay_col[i]].value_counts(), color='#00993e')\n",
    "    ax[x,y].set_title(pay_col[i])\n",
    "    ax[x,y].grid()"
   ]
  },
  {
   "cell_type": "code",
   "execution_count": 62,
   "metadata": {},
   "outputs": [
    {
     "data": {
      "image/png": "[encoded data removed]",
      "text/plain": [
       "<matplotlib.figure.Figure at 0x119397630>"
      ]
     },
     "metadata": {},
     "output_type": "display_data"
    }
   ],
   "source": [
    "plt.tight_layout(pad=3, w_pad=1, h_pad=1)\n",
    "plt.show()"
   ]
  },
  {
   "cell_type": "code",
   "execution_count": 136,
   "metadata": {},
   "outputs": [
    {
     "name": "stdout",
     "output_type": "stream",
     "text": [
      "Index(['pay_status_sep', 'pay_status_aug', 'pay_status_jul', 'pay_status_jun',\n",
      "       'pay_status_may', 'pay_status_apr'],\n",
      "      dtype='object')\n",
      "{'sep': None, 'aug': None, 'jul': None, 'jun': None, 'may': None, 'apr': None}\n"
     ]
    }
   ],
   "source": [
    "pay_status_col = df.iloc[:,5:11]\n",
    "status_col = pay_status_col.columns\n",
    "\n",
    "pct_on_time = dict.fromkeys(['sep','aug','jul','jun','may','apr'])\n",
    "\n",
    "print(status_col)\n",
    "print(pct_on_time)"
   ]
  },
  {
   "cell_type": "code",
   "execution_count": 137,
   "metadata": {
    "collapsed": true
   },
   "outputs": [],
   "source": [
    "for i in range(len(status_col)):\n",
    "    pct_on_time[list(pct_on_time.keys())[i]] = 100*round(pay_status_col.iloc[:,i].value_counts()[[-2,-1,0]].sum() / pay_status_col.iloc[:,i].value_counts().sum(),2)\n",
    "    "
   ]
  },
  {
   "cell_type": "code",
   "execution_count": 138,
   "metadata": {},
   "outputs": [
    {
     "name": "stdout",
     "output_type": "stream",
     "text": [
      "{'apr': 90.0, 'aug': 85.0, 'jul': 86.0, 'jun': 88.0, 'may': 90.0, 'sep': 77.0}\n"
     ]
    }
   ],
   "source": [
    "pprint.pprint(pct_on_time)\n",
    "\n",
    "# Looks like 86% of people on average over Apr-Sep pay early of on time."
   ]
  },
  {
   "cell_type": "code",
   "execution_count": 3,
   "metadata": {
    "collapsed": true
   },
   "outputs": [],
   "source": [
    "# Below let's see the proportion of people that default on their credit card in the month of september compared to those that don't"
   ]
  },
  {
   "cell_type": "code",
   "execution_count": 4,
   "metadata": {
    "collapsed": true
   },
   "outputs": [],
   "source": [
    "# Not defaulting: 0\n",
    "# Defaulting: 1"
   ]
  },
  {
   "cell_type": "code",
   "execution_count": 181,
   "metadata": {},
   "outputs": [
    {
     "data": {
      "text/plain": [
       "0    23364\n",
       "1     6636\n",
       "Name: Y, dtype: int64"
      ]
     },
     "execution_count": 181,
     "metadata": {},
     "output_type": "execute_result"
    }
   ],
   "source": [
    "y.value_counts()"
   ]
  },
  {
   "cell_type": "code",
   "execution_count": 292,
   "metadata": {
    "collapsed": true
   },
   "outputs": [],
   "source": [
    "plt.figure()\n",
    "plt.bar([0,1],[23364,6636], color='#72a6f9', alpha=0.9)\n",
    "plt.xticks(np.arange(0,2,1))\n",
    "plt.title('Proportion of Defaulting')\n",
    "plt.ylabel('Count', rotation=0, labelpad=30)\n",
    "plt.xlabel('Status')\n",
    "plt.grid(alpha=0.3)"
   ]
  },
  {
   "cell_type": "code",
   "execution_count": 293,
   "metadata": {},
   "outputs": [
    {
     "data": {
      "image/png": "[encoded data removed]",
      "text/plain": [
       "<matplotlib.figure.Figure object at 0x15abfaa90>"
      ]
     },
     "metadata": {},
     "output_type": "display_data"
    }
   ],
   "source": [
    "plt.show()"
   ]
  },
  {
   "cell_type": "code",
   "execution_count": 187,
   "metadata": {},
   "outputs": [
    {
     "name": "stdout",
     "output_type": "stream",
     "text": [
      "total default pct:  22.12 %\n"
     ]
    }
   ],
   "source": [
    "# find how many people defaulted in time range\n",
    "\n",
    "total_default_pct = 6636 / (23364+6636) * 100\n",
    "print('total default pct: ',total_default_pct,'%')"
   ]
  },
  {
   "cell_type": "code",
   "execution_count": 5,
   "metadata": {
    "collapsed": true
   },
   "outputs": [],
   "source": [
    "# Below we see that the number of men defaulting is fairly equal to that of women defaulting"
   ]
  },
  {
   "cell_type": "code",
   "execution_count": 230,
   "metadata": {},
   "outputs": [
    {
     "name": "stdout",
     "output_type": "stream",
     "text": [
      "gender  Y\n",
      "1       0     9015\n",
      "        1     2873\n",
      "2       0    14349\n",
      "        1     3763\n",
      "dtype: int64\n"
     ]
    }
   ],
   "source": [
    "genders_defaults = df.groupby(['gender','Y']).size()\n",
    "print(genders_defaults)"
   ]
  },
  {
   "cell_type": "code",
   "execution_count": 231,
   "metadata": {},
   "outputs": [
    {
     "data": {
      "text/plain": [
       "<matplotlib.figure.Figure object at 0x15becec88>"
      ]
     },
     "execution_count": 231,
     "metadata": {},
     "output_type": "execute_result"
    }
   ],
   "source": [
    "plt.figure()"
   ]
  },
  {
   "cell_type": "code",
   "execution_count": 232,
   "metadata": {},
   "outputs": [
    {
     "data": {
      "text/plain": [
       "<matplotlib.axes._subplots.AxesSubplot object at 0x15c0d0ac8>"
      ]
     },
     "execution_count": 232,
     "metadata": {},
     "output_type": "execute_result"
    }
   ],
   "source": [
    "genders_defaults.unstack(level=1).plot(kind='bar')"
   ]
  },
  {
   "cell_type": "code",
   "execution_count": 233,
   "metadata": {},
   "outputs": [
    {
     "data": {
      "text/plain": [
       "<matplotlib.figure.Figure object at 0x15becec88>"
      ]
     },
     "metadata": {},
     "output_type": "display_data"
    },
    {
     "data": {
      "image/png": "[encoded data removed]",
      "text/plain": [
       "<matplotlib.figure.Figure object at 0x15bf1ed30>"
      ]
     },
     "metadata": {},
     "output_type": "display_data"
    }
   ],
   "source": [
    "plt.show()"
   ]
  },
  {
   "cell_type": "code",
   "execution_count": null,
   "metadata": {
    "collapsed": true
   },
   "outputs": [],
   "source": []
  }
 ],
 "metadata": {
  "kernelspec": {
   "display_name": "Python 3",
   "language": "python",
   "name": "python3"
  },
  "language_info": {
   "codemirror_mode": {
    "name": "ipython",
    "version": 3
   },
   "file_extension": ".py",
   "mimetype": "text/x-python",
   "name": "python",
   "nbconvert_exporter": "python",
   "pygments_lexer": "ipython3",
   "version": "3.6.1"
  }
 },
 "nbformat": 4,
 "nbformat_minor": 2
}
