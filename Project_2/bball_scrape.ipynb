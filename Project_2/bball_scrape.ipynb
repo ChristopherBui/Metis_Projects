{
 "cells": [
  {
   "cell_type": "code",
   "execution_count": 1,
   "metadata": {
    "collapsed": true
   },
   "outputs": [],
   "source": [
    "import requests\n",
    "from bs4 import BeautifulSoup as bs\n",
    "\n",
    "from selenium import webdriver\n",
    "from selenium.webdriver.common.keys import Keys\n",
    "import time\n",
    "import os\n",
    "import pandas as pd"
   ]
  },
  {
   "cell_type": "code",
   "execution_count": 2,
   "metadata": {
    "collapsed": true
   },
   "outputs": [],
   "source": [
    "# prepare dataframe\n",
    "column_headers = ['G','GS','MP','FG','FGA','FG%','3P','3PA','3P%','2P','2PA','2P%','eFG%','FT','FTA',\n",
    "'FT%','ORB','DRB','TRB','AST','STL','BLK','TOV','PF','PTS']\n",
    "\n",
    "df_name = pd.DataFrame(columns = ['NAME'])\n",
    "\n",
    "df = pd.DataFrame(columns=column_headers)\n",
    "# dfplace = pd.DataFrame(player_dict)\n",
    "# df.append(dfplace)\n",
    "# or df.append(player_dict)\n",
    "\n",
    "\n",
    "#initialize chromedriver\n",
    "chromedriver = \"/usr/local/bin/chromedriver\" # path to the chromedriver executable\n",
    "os.environ[\"webdriver.chrome.driver\"] = chromedriver\n",
    "\n",
    "driver = webdriver.Chrome(chromedriver)"
   ]
  },
  {
   "cell_type": "code",
   "execution_count": null,
   "metadata": {
    "collapsed": true
   },
   "outputs": [],
   "source": [
    "# get & format webpage url\n",
    "url = 'https://www.basketball-reference.com/players/a/'\n",
    "soup = bs(requests.get(url).text, 'lxml')\n",
    "\n",
    "# go to webpage\n",
    "driver.get(url)\n",
    "\n",
    "# make alphabet tuple\n",
    "letters = tuple(['b','c','d','g','h','j','m','p','r','s','w'])\n",
    "\n",
    "letters_number_list = tuple([2,3,4,7,8,10,13,16,18,19,23])\n",
    "\n",
    "dates = ['1979-80','1980-81','1981-82','1982-83','1983-84','1984-85','1985-86','1986-87',\n",
    "'1987-88','1988-89','1989-90','1990-91','1991-92','1992-93','1993-94','1994-95','1995-96',\n",
    "'1996-97','1997-98','1998-99','1999-00','2000-01','2001-02','2002-03','2003-04','2004-05',\n",
    "'2005-06','2006-07','2007-08','2008-09','2009-10','2010-11','2011-12','2012-13','2013-14',\n",
    "'2014-15','2015-16','2016-17','2017-18']"
   ]
  },
  {
   "cell_type": "code",
   "execution_count": null,
   "metadata": {
    "collapsed": true
   },
   "outputs": [],
   "source": [
    "for round in range(0,12):\n",
    "\n",
    "    df.to_csv('bball_{}.csv'.format(round)\n",
    "    df_name.to_csv('names_{}.csv'.format(round))\n",
    "    \n",
    "    # click to next letter\n",
    "    letter_path = '//*[@id=\"div_alphabet\"]/ul/li[{}]/a'.format(letters_number_list[round])\n",
    "    letter_button = driver.find_elements_by_xpath(letter_path)\n",
    "   \n",
    "    letter_button[0].click()\n",
    "    \n",
    "    # get xpath of player names\n",
    "    name_locate = '//*[@id=\"players\"]/tbody/tr/th/a'\n",
    "    \n",
    "    # get xpath of origin date\n",
    "    date_locate = '//*[@id=\"per_game\"]/tbody/tr/th/a'\n",
    "\n",
    "    # get list of all players in the current alphabet letter\n",
    "    name_list = driver.find_elements_by_xpath(name_locate)\n",
    "    \n",
    "    length_name_list = len(name_list)\n",
    "\n",
    "    # clean up name_list\n",
    "    # del name_list[0:9]\n",
    "    # del name_list[-1:-6:-1]\n",
    "\n",
    "    # click on a player, try range?\n",
    "    for player in range(length_name_list):\n",
    "        \n",
    "        name_list_2 = driver.find_elements_by_xpath(name_locate)[player]\n",
    "        # name_locate = '//a[contains(@href, \"/players/{}\"]'.format(letters[round])\n",
    "        # name_list = driver.find_elements_by_xpath(name_locate)\n",
    "        \n",
    "        current_name = name_list_2.text\n",
    "        name_dict = {'NAME':current_name}\n",
    "\n",
    "        # make name_list again here???????????\n",
    "        \n",
    "        # go to a player's info page\n",
    "        \n",
    "        name_list_2.click()\n",
    "        \n",
    "        # check if player was part of 3-point era\n",
    "        origin_date = driver.find_elements_by_xpath(date_locate)[0].text.split(' ')[0]\n",
    "        # get url of a player's info page\n",
    "        player_specific_url = driver.current_url\n",
    "\n",
    "        soup_player = bs(requests.get(player_specific_url).text, 'lxml')\n",
    "        player_text = soup_player.find('tbody')\n",
    "\n",
    "        # get list of rows of season stats\n",
    "        season_list = player_text.find_all('tr')\n",
    "        n_seasons = len(season_list)\n",
    "\n",
    "\n",
    "        # if played less than 3 seasons, just skip this player during data colection\n",
    "        if (n_seasons > 2) and (origin_date in dates):\n",
    "            \n",
    "            pre_player_0 = season_list[0].find_all('td')\n",
    "            len_0 = len(pre_player_0)\n",
    "\n",
    "            pre_player_1 = season_list[1].find_all('td')\n",
    "            len_1 = len(pre_player_1)\n",
    "            \n",
    "            pre_player_2 = season_list[2].find_all('td')\n",
    "            len_2 = len(pre_player_2)\n",
    "            \n",
    "            \n",
    "            if (len_0 != len_1) or (len_0 != len_2):\n",
    "                driver.back()\n",
    "\n",
    "            else:\n",
    "                \n",
    "                try:\n",
    "                    \n",
    "                df_player = pd.DataFrame(columns=column_headers)\n",
    "                \n",
    "                pre_player_0 = [i.text for i in pre_player_0]\n",
    "                pre_player_1 = [i.text for i in pre_player_1]\n",
    "                pre_player_2 = [i.text for i in pre_player_2]\n",
    "\n",
    "                del pre_player_0[0:4]\n",
    "                del pre_player_1[0:4]\n",
    "                del pre_player_2[0:4]\n",
    "                \n",
    "                pre_player_0 = ['0.0' if i == '' else i for i in pre_player_0]\n",
    "                pre_player_1 = ['0.0' if i == '' else i for i in pre_player_1]\n",
    "                pre_player_2 = ['0.0' if i == '' else i for i in pre_player_2]\n",
    "                \n",
    "                pre_player_0 = [float(i) for i in pre_player_0]\n",
    "                pre_player_1 = [float(i) for i in pre_player_1]\n",
    "                pre_player_2 = [float(i) for i in pre_player_2]\n",
    "\n",
    "                player_dict_0 = dict(zip(column_headers, pre_player_0))\n",
    "                player_dict_1 = dict(zip(column_headers, pre_player_1))\n",
    "                player_dict_2 = dict(zip(column_headers, pre_player_2))\n",
    "        \n",
    "                df_player = df_player.append(player_dict_0, ignore_index=True)\n",
    "                df_player = df_player.append(player_dict_1, ignore_index=True)\n",
    "                df_player = df_player.append(player_dict_2, ignore_index=True)\n",
    "                \n",
    "                df_player = df_player.sum()/3\n",
    "                df = df.append(df_player,ignore_index=True)\n",
    "                \n",
    "                df_name = df_name.append([name_dict])\n",
    "                \n",
    "                # pickle here\n",
    "                \n",
    "                driver.back()\n",
    "                \n",
    "        else:\n",
    "            driver.back()"
   ]
  },
  {
   "cell_type": "code",
   "execution_count": 12,
   "metadata": {},
   "outputs": [
    {
     "data": {
      "text/plain": [
       "G       79.000000\n",
       "GS      72.333333\n",
       "MP      34.166667\n",
       "FG       5.933333\n",
       "FGA     11.666667\n",
       "FG%      0.509667\n",
       "3P       0.600000\n",
       "3PA      1.433333\n",
       "3P%      0.384000\n",
       "2P       5.366667\n",
       "2PA     10.233333\n",
       "2P%      0.524667\n",
       "eFG%     0.533333\n",
       "FT       2.266667\n",
       "FTA      2.666667\n",
       "FT%      0.842333\n",
       "ORB      1.433333\n",
       "DRB      3.200000\n",
       "TRB      4.666667\n",
       "AST      3.033333\n",
       "STL      0.766667\n",
       "BLK      0.333333\n",
       "TOV      1.666667\n",
       "PF       2.500000\n",
       "PTS     14.766667\n",
       "Name: 717, dtype: float64"
      ]
     },
     "execution_count": 12,
     "metadata": {},
     "output_type": "execute_result"
    }
   ],
   "source": [
    "df.iloc[-1]"
   ]
  },
  {
   "cell_type": "code",
   "execution_count": 13,
   "metadata": {
    "collapsed": true
   },
   "outputs": [],
   "source": [
    "df.to_csv('bball_10.csv')\n",
    "df_name.to_csv('names_10.csv')"
   ]
  },
  {
   "cell_type": "code",
   "execution_count": null,
   "metadata": {
    "collapsed": true
   },
   "outputs": [],
   "source": []
  }
 ],
 "metadata": {
  "kernelspec": {
   "display_name": "Python 3",
   "language": "python",
   "name": "python3"
  },
  "language_info": {
   "codemirror_mode": {
    "name": "ipython",
    "version": 3
   },
   "file_extension": ".py",
   "mimetype": "text/x-python",
   "name": "python",
   "nbconvert_exporter": "python",
   "pygments_lexer": "ipython3",
   "version": "3.6.1"
  }
 },
 "nbformat": 4,
 "nbformat_minor": 2
}
